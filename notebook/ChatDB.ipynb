{
 "cells": [
  {
   "cell_type": "markdown",
   "metadata": {},
   "source": [
    "### Python Testing Environment"
   ]
  },
  {
   "cell_type": "code",
   "execution_count": 10,
   "metadata": {},
   "outputs": [
    {
     "name": "stdout",
     "output_type": "stream",
     "text": [
      "Using PyMySQL version 1.4.6\n",
      "Using PyMongo version 4.10.1\n"
     ]
    }
   ],
   "source": [
    "try:\n",
    "    import pymysql\n",
    "except:\n",
    "    print(\"Missing pymysql import, installing now\")\n",
    "    %pip install pymysql\n",
    "try:\n",
    "    import pymongo\n",
    "except:\n",
    "    print(\"Missing pymongo import, installing now\")\n",
    "    %pip install pymongo\n",
    "\n",
    "print(\"Using PyMySQL version\", pymysql.__version__)\n",
    "print(\"Using PyMongo version\", pymongo.__version__)"
   ]
  },
  {
   "cell_type": "code",
   "execution_count": null,
   "metadata": {},
   "outputs": [],
   "source": []
  },
  {
   "cell_type": "code",
   "execution_count": 5,
   "metadata": {},
   "outputs": [],
   "source": []
  },
  {
   "cell_type": "code",
   "execution_count": null,
   "metadata": {},
   "outputs": [],
   "source": []
  }
 ],
 "metadata": {
  "kernelspec": {
   "display_name": "base",
   "language": "python",
   "name": "python3"
  },
  "language_info": {
   "codemirror_mode": {
    "name": "ipython",
    "version": 3
   },
   "file_extension": ".py",
   "mimetype": "text/x-python",
   "name": "python",
   "nbconvert_exporter": "python",
   "pygments_lexer": "ipython3",
   "version": "3.12.4"
  }
 },
 "nbformat": 4,
 "nbformat_minor": 2
}
