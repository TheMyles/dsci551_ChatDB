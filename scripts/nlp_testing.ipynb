{
 "cells": [
  {
   "cell_type": "code",
   "execution_count": 7,
   "metadata": {},
   "outputs": [],
   "source": [
    "import nltk\n",
    "from nltk.tokenize import word_tokenize\n",
    "from nltk.corpus import stopwords\n",
    "from collections import Counter"
   ]
  },
  {
   "cell_type": "code",
   "execution_count": 10,
   "metadata": {},
   "outputs": [
    {
     "name": "stderr",
     "output_type": "stream",
     "text": [
      "[nltk_data] Downloading package punkt to\n",
      "[nltk_data]     C:\\Users\\mmoln\\AppData\\Roaming\\nltk_data...\n",
      "[nltk_data]   Package punkt is already up-to-date!\n",
      "[nltk_data] Downloading package stopwords to\n",
      "[nltk_data]     C:\\Users\\mmoln\\AppData\\Roaming\\nltk_data...\n",
      "[nltk_data]   Package stopwords is already up-to-date!\n"
     ]
    },
    {
     "data": {
      "text/plain": [
       "True"
      ]
     },
     "execution_count": 10,
     "metadata": {},
     "output_type": "execute_result"
    }
   ],
   "source": [
    "nltk.download('punkt')\n",
    "nltk.download('stopwords')"
   ]
  },
  {
   "cell_type": "code",
   "execution_count": 26,
   "metadata": {},
   "outputs": [],
   "source": [
    "QUERY_PATTERNS = {\n",
    "    \"SELECT\": [\"select\", \"columns\", \"fields\", \"retrieve\", \"get\"],\n",
    "    \"GROUP BY\": [\"group by\", \"aggregate\", \"sum\", \"average\", \"count\"],\n",
    "    \"HAVING\": [\"having\", \"condition\", \"filter after group\"],\n",
    "    \"ORDER BY\": [\"order by\", \"sort\", \"ascending\", \"descending\"],\n",
    "    \"WHERE\": [\"where\", \"condition\", \"filter\"],\n",
    "    \"JOIN\": [\"join\", \"merge\", \"combine\", \"foreign key\", \"on\"]\n",
    "}\n",
    "\n",
    "example_inputs = [\n",
    "    \"Show me all the records in the employees table\",\n",
    "    \"Get the details of employees who work in the 'Sales' department\",\n",
    "    \"How many employees are there in the company\",\n",
    "    \"Show me the names and salaries of employees earning more than $50,000\",\n",
    "    \"List all employees, sorted by their hire date in descending order\",\n",
    "    \"Find the average salary of employees in the 'Engineering' department\"\n",
    "]\n"
   ]
  },
  {
   "cell_type": "code",
   "execution_count": null,
   "metadata": {},
   "outputs": [
    {
     "data": {
      "text/plain": [
       "'HAVING'"
      ]
     },
     "execution_count": 30,
     "metadata": {},
     "output_type": "execute_result"
    },
    {
     "ename": "",
     "evalue": "",
     "output_type": "error",
     "traceback": [
      "\u001b[1;31mThe Kernel crashed while executing code in the current cell or a previous cell. \n",
      "\u001b[1;31mPlease review the code in the cell(s) to identify a possible cause of the failure. \n",
      "\u001b[1;31mClick <a href='https://aka.ms/vscodeJupyterKernelCrash'>here</a> for more info. \n",
      "\u001b[1;31mView Jupyter <a href='command:jupyter.viewOutput'>log</a> for further details."
     ]
    }
   ],
   "source": [
    "def match_query_pattern(user_input):\n",
    "\n",
    "    tokens = word_tokenize(user_input.lower())\n",
    "    tokens = [token for token in tokens if token.isalnum()]  # Remove punctuation\n",
    "    stop_words = set(stopwords.words('english'))\n",
    "    filtered_tokens = [token for token in tokens if token not in stop_words]\n",
    "    \n",
    "    # Match tokens to query patterns\n",
    "    token_counts = Counter(filtered_tokens)\n",
    "    for query_type, keywords in QUERY_PATTERNS.items():\n",
    "        for keyword in keywords:\n",
    "            if keyword in user_input.lower() or any(k in filtered_tokens for k in keyword.split()):\n",
    "                return query_type\n",
    "\n",
    "    return \"Unknown\"\n",
    "\n",
    "query = \"Show me the total sales grouped by region with a condition on sales.\"\n",
    "\n",
    "match_query_pattern(query)"
   ]
  },
  {
   "cell_type": "code",
   "execution_count": null,
   "metadata": {},
   "outputs": [
    {
     "name": "stdout",
     "output_type": "stream",
     "text": [
      "['show', 'me', 'all', 'the', 'records', 'in', 'the', 'employees', 'table']\n",
      "['show', 'records', 'employees', 'table']\n",
      "Unknown\n",
      "['get', 'the', 'details', 'of', 'employees', 'who', 'work', 'in', 'the', 'department']\n",
      "['get', 'details', 'employees', 'work', 'department']\n",
      "SELECT\n",
      "['how', 'many', 'employees', 'are', 'there', 'in', 'the', 'company']\n",
      "['many', 'employees', 'company']\n",
      "Unknown\n",
      "['show', 'me', 'the', 'names', 'and', 'salaries', 'of', 'employees', 'earning', 'more', 'than']\n",
      "['show', 'names', 'salaries', 'employees', 'earning']\n",
      "Unknown\n",
      "['list', 'all', 'employees', 'sorted', 'by', 'their', 'hire', 'date', 'in', 'descending', 'order']\n",
      "['list', 'employees', 'sorted', 'hire', 'date', 'descending', 'order']\n",
      "ORDER BY\n",
      "['find', 'the', 'average', 'salary', 'of', 'employees', 'in', 'the', 'department']\n",
      "['find', 'average', 'salary', 'employees', 'department']\n",
      "GROUP BY\n"
     ]
    }
   ],
   "source": [
    "for i in example_inputs:\n",
    "    tokens = word_tokenize(i.lower())\n",
    "    tokens = [token for token in tokens if token.isalnum()]  # Remove punctuation\n",
    "    stop_words = set(stopwords.words('english'))\n",
    "    filtered_tokens = [token for token in tokens if token not in stop_words]\n",
    "\n",
    "    print(tokens)\n",
    "    print(filtered_tokens)\n",
    "    print(match_query_pattern(i))\n"
   ]
  },
  {
   "cell_type": "code",
   "execution_count": null,
   "metadata": {},
   "outputs": [
    {
     "name": "stderr",
     "output_type": "stream",
     "text": [
      "[nltk_data] Downloading package punkt_tab to\n",
      "[nltk_data]     C:\\Users\\mmoln\\AppData\\Roaming\\nltk_data...\n",
      "[nltk_data]   Unzipping tokenizers\\punkt_tab.zip.\n"
     ]
    },
    {
     "data": {
      "text/plain": [
       "True"
      ]
     },
     "execution_count": 12,
     "metadata": {},
     "output_type": "execute_result"
    }
   ],
   "source": []
  },
  {
   "cell_type": "code",
   "execution_count": null,
   "metadata": {},
   "outputs": [],
   "source": []
  }
 ],
 "metadata": {
  "kernelspec": {
   "display_name": "Python 3",
   "language": "python",
   "name": "python3"
  },
  "language_info": {
   "codemirror_mode": {
    "name": "ipython",
    "version": 3
   },
   "file_extension": ".py",
   "mimetype": "text/x-python",
   "name": "python",
   "nbconvert_exporter": "python",
   "pygments_lexer": "ipython3",
   "version": "3.12.7"
  }
 },
 "nbformat": 4,
 "nbformat_minor": 2
}
